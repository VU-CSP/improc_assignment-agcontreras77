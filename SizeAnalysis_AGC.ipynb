{
  "nbformat": 4,
  "nbformat_minor": 0,
  "metadata": {
    "colab": {
      "provenance": [],
      "authorship_tag": "ABX9TyOkHH6BUFLDNJB6Hpw7Wnyv",
      "include_colab_link": true
    },
    "kernelspec": {
      "name": "python3",
      "display_name": "Python 3"
    },
    "language_info": {
      "name": "python"
    }
  },
  "cells": [
    {
      "cell_type": "markdown",
      "metadata": {
        "id": "view-in-github",
        "colab_type": "text"
      },
      "source": [
        "<a href=\"https://colab.research.google.com/github/VU-CSP/improc_assignment-agcontreras77/blob/main/SizeAnalysis_AGC.ipynb\" target=\"_parent\"><img src=\"https://colab.research.google.com/assets/colab-badge.svg\" alt=\"Open In Colab\"/></a>"
      ]
    },
    {
      "cell_type": "code",
      "execution_count": 4,
      "metadata": {
        "id": "zzVhLzp_Cn92"
      },
      "outputs": [],
      "source": [
        "import pandas as pd\n",
        "import numpy as np\n",
        "import seaborn as sns"
      ]
    },
    {
      "cell_type": "markdown",
      "source": [
        "Write code below to read the Results.csv file as a pandas DataFrame and store it in the object named measurements. Show the head of the DataFrame.\n"
      ],
      "metadata": {
        "id": "wtPhL8F-DHXu"
      }
    },
    {
      "cell_type": "code",
      "source": [
        "url = 'https://raw.githubusercontent.com/VU-CSP/improc_assignment-agcontreras77/main/Results.csv'\n",
        "df = pd.read_csv(url)\n",
        "# Dataset is now stored in a Pandas Dataframe\n",
        "\n",
        "# Code to read Results and show head\n",
        "print(df)"
      ],
      "metadata": {
        "colab": {
          "base_uri": "https://localhost:8080/"
        },
        "id": "QI8xud_6DVvf",
        "outputId": "4ae54591-f3d2-4ddb-f013-3cf0b7ee36c5"
      },
      "execution_count": 8,
      "outputs": [
        {
          "output_type": "stream",
          "name": "stdout",
          "text": [
            "            Area      Mean   Min    Max     IntDen  RawIntDen\n",
            "0        1   443  5088.156  3382   6816  2254053.0  2254053.0\n",
            "1        2   290  4619.883  3409   6133  1339766.0  1339766.0\n",
            "2        3   361  4412.784  3383   5794  1593015.0  1593015.0\n",
            "3        4   466  4382.142  3382   5724  2042078.0  2042078.0\n",
            "4        5   306  4510.882  3386   5891  1380330.0  1380330.0\n",
            "...    ...   ...       ...   ...    ...        ...        ...\n",
            "1412  1413   483  8471.656  3385  19178  4091810.0  4091810.0\n",
            "1413  1414   421  5151.998  3389   6666  2168991.0  2168991.0\n",
            "1414  1415   303  5644.944  3398   7937  1710418.0  1710418.0\n",
            "1415  1416   338  5157.337  3433   6728  1743180.0  1743180.0\n",
            "1416  1417   291  6155.608  3397  10026  1791282.0  1791282.0\n",
            "\n",
            "[1417 rows x 7 columns]\n"
          ]
        }
      ]
    },
    {
      "cell_type": "code",
      "source": [
        "#Storing pandas df in the object named measurements\n",
        "measurements = df\n",
        "\n",
        "#Showing the head of the DataFrame:\n",
        "print(measurements.head())\n"
      ],
      "metadata": {
        "colab": {
          "base_uri": "https://localhost:8080/"
        },
        "id": "yQrngSrKCtMc",
        "outputId": "4c0bc217-edec-4a0f-d2f2-d4ee449d34c7"
      },
      "execution_count": 9,
      "outputs": [
        {
          "output_type": "stream",
          "name": "stdout",
          "text": [
            "      Area      Mean   Min   Max     IntDen  RawIntDen\n",
            "0  1   443  5088.156  3382  6816  2254053.0  2254053.0\n",
            "1  2   290  4619.883  3409  6133  1339766.0  1339766.0\n",
            "2  3   361  4412.784  3383  5794  1593015.0  1593015.0\n",
            "3  4   466  4382.142  3382  5724  2042078.0  2042078.0\n",
            "4  5   306  4510.882  3386  5891  1380330.0  1380330.0\n"
          ]
        }
      ]
    },
    {
      "cell_type": "code",
      "source": [
        "# Code to plot a histogram of the Area\n",
        "sns.histplot(data=measurements, x=\"Area\", bins=20, color=\"green\")"
      ],
      "metadata": {
        "colab": {
          "base_uri": "https://localhost:8080/",
          "height": 296
        },
        "id": "zai9Q2q2CtX7",
        "outputId": "296c4a15-bd1d-420d-bafc-055abeaaa555"
      },
      "execution_count": 10,
      "outputs": [
        {
          "output_type": "execute_result",
          "data": {
            "text/plain": [
              "<AxesSubplot:xlabel='Area', ylabel='Count'>"
            ]
          },
          "metadata": {},
          "execution_count": 10
        },
        {
          "output_type": "display_data",
          "data": {
            "text/plain": [
              "<Figure size 432x288 with 1 Axes>"
            ],
            "image/png": "[encoded data removed]"
          },
          "metadata": {
            "needs_background": "light"
          }
        }
      ]
    },
    {
      "cell_type": "markdown",
      "source": [
        "Calculate the mean and the standard deviation of the distribution and show them below. (HINT: pandas can do this easily)\n"
      ],
      "metadata": {
        "id": "Zj2BhsKbDNz2"
      }
    },
    {
      "cell_type": "code",
      "source": [
        "# Calculate mean\n",
        "area_mean = measurements[\"Area\"].mean()\n",
        "print(\"Mean: \", area_mean)\n"
      ],
      "metadata": {
        "colab": {
          "base_uri": "https://localhost:8080/"
        },
        "id": "Plq68t6WCtab",
        "outputId": "76a4d752-6bc8-48c6-d2c8-deabd1d8cbe9"
      },
      "execution_count": 11,
      "outputs": [
        {
          "output_type": "stream",
          "name": "stdout",
          "text": [
            "Mean:  340.3189837685251\n"
          ]
        }
      ]
    },
    {
      "cell_type": "code",
      "source": [
        "# Calculate standard deviation\n",
        "area_std = measurements[\"Area\"].std()\n",
        "print(\"Standard deviation: \", area_std)"
      ],
      "metadata": {
        "colab": {
          "base_uri": "https://localhost:8080/"
        },
        "id": "6cMKL1RuCtdb",
        "outputId": "4a1815bd-16be-4093-c051-3b586316b37a"
      },
      "execution_count": 12,
      "outputs": [
        {
          "output_type": "stream",
          "name": "stdout",
          "text": [
            "Standard deviation:  71.3231576016232\n"
          ]
        }
      ]
    },
    {
      "cell_type": "markdown",
      "source": [
        "## Describe your interpretation of the distribution of the measurements of nuclear area below. Based on what you see, would you choose different value ranges of particle sizes for counting? Explain why."
      ],
      "metadata": {
        "id": "kfxboSc4Fw_Z"
      }
    },
    {
      "cell_type": "markdown",
      "source": [
        "Answer: The distribution of the measurements of nuclear area is left skewed. The mean is 340.3 and the standard deviation is +/- 71.3 The measurements might be overcounting the larger cels that may include cells made of multiple nuclei. This would artificially inflate the number of larger cells and create an inaccurate representation of the data. It might be a good idea to decrease the maximum size of the particle size range."
      ],
      "metadata": {
        "id": "APFhRKelGW-D"
      }
    }
  ]
}